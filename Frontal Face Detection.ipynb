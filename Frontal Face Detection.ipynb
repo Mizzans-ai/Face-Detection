{
 "cells": [
  {
   "cell_type": "code",
   "execution_count": 3,
   "id": "61a7c115-75f4-4958-b389-3a5f747756e7",
   "metadata": {},
   "outputs": [
    {
     "name": "stdout",
     "output_type": "stream",
     "text": [
      "Requirement already satisfied: opencv-python in c:\\users\\fahad\\anaconda3\\lib\\site-packages (4.10.0.84)\n",
      "Requirement already satisfied: numpy>=1.21.2 in c:\\users\\fahad\\anaconda3\\lib\\site-packages (from opencv-python) (1.26.4)\n"
     ]
    },
    {
     "name": "stderr",
     "output_type": "stream",
     "text": [
      "\n",
      "[notice] A new release of pip is available: 24.2 -> 24.3.1\n",
      "[notice] To update, run: python.exe -m pip install --upgrade pip\n"
     ]
    },
    {
     "name": "stdout",
     "output_type": "stream",
     "text": [
      "Collecting opencv-python-headless\n",
      "  Downloading opencv_python_headless-4.10.0.84-cp37-abi3-win_amd64.whl.metadata (20 kB)\n",
      "Requirement already satisfied: numpy>=1.21.2 in c:\\users\\fahad\\anaconda3\\lib\\site-packages (from opencv-python-headless) (1.26.4)\n",
      "Downloading opencv_python_headless-4.10.0.84-cp37-abi3-win_amd64.whl (38.8 MB)\n",
      "   ---------------------------------------- 0.0/38.8 MB ? eta -:--:--\n",
      "   --- ------------------------------------ 3.1/38.8 MB 16.8 MB/s eta 0:00:03\n",
      "   ------ --------------------------------- 6.3/38.8 MB 15.4 MB/s eta 0:00:03\n",
      "   ---------- ----------------------------- 9.7/38.8 MB 15.9 MB/s eta 0:00:02\n",
      "   -------------- ------------------------- 14.4/38.8 MB 17.8 MB/s eta 0:00:02\n",
      "   ------------------- -------------------- 19.1/38.8 MB 18.9 MB/s eta 0:00:02\n",
      "   ------------------------ --------------- 24.1/38.8 MB 19.6 MB/s eta 0:00:01\n",
      "   ------------------------------ --------- 29.9/38.8 MB 20.8 MB/s eta 0:00:01\n",
      "   --------------------------------- ------ 32.8/38.8 MB 21.2 MB/s eta 0:00:01\n",
      "   --------------------------------- ------ 32.8/38.8 MB 21.2 MB/s eta 0:00:01\n",
      "   --------------------------------- ------ 32.8/38.8 MB 21.2 MB/s eta 0:00:01\n",
      "   --------------------------------- ------ 32.8/38.8 MB 21.2 MB/s eta 0:00:01\n",
      "   --------------------------------- ------ 32.8/38.8 MB 21.2 MB/s eta 0:00:01\n",
      "   --------------------------------- ------ 32.8/38.8 MB 21.2 MB/s eta 0:00:01\n",
      "   --------------------------------- ------ 32.8/38.8 MB 21.2 MB/s eta 0:00:01\n",
      "   --------------------------------- ------ 32.8/38.8 MB 21.2 MB/s eta 0:00:01\n",
      "   --------------------------------- ------ 32.8/38.8 MB 21.2 MB/s eta 0:00:01\n",
      "   --------------------------------- ------ 32.8/38.8 MB 21.2 MB/s eta 0:00:01\n",
      "   --------------------------------- ------ 32.8/38.8 MB 21.2 MB/s eta 0:00:01\n",
      "   -------------------------------------- - 37.7/38.8 MB 9.6 MB/s eta 0:00:01\n",
      "   ---------------------------------------- 38.8/38.8 MB 9.5 MB/s eta 0:00:00\n",
      "Installing collected packages: opencv-python-headless\n"
     ]
    },
    {
     "name": "stderr",
     "output_type": "stream",
     "text": [
      "ERROR: Could not install packages due to an OSError: [WinError 5] Access is denied: 'C:\\\\Users\\\\fahad\\\\anaconda3\\\\Lib\\\\site-packages\\\\cv2\\\\cv2.pyd'\n",
      "Consider using the `--user` option or check the permissions.\n",
      "\n",
      "\n",
      "[notice] A new release of pip is available: 24.2 -> 24.3.1\n",
      "[notice] To update, run: python.exe -m pip install --upgrade pip\n"
     ]
    }
   ],
   "source": [
    "!pip install opencv-python\n",
    "!pip install opencv-python-headless\n"
   ]
  },
  {
   "cell_type": "code",
   "execution_count": 5,
   "id": "e19601e7-8432-4efa-b4ab-b38929e6aaeb",
   "metadata": {},
   "outputs": [],
   "source": [
    "import cv2\n",
    "\n",
    "# Path to the image\n",
    "image_path = \"C:/Users/fahad/Desktop/datasets/16816185744606_andrew-tate.jpg\"\n",
    "\n",
    "# Read the image\n",
    "image = cv2.imread(image_path)\n",
    "\n",
    "if image is None:\n",
    "    print(f\"Error: Unable to load image from {image_path}\")\n",
    "else:\n",
    "    # Load the Haar Cascade for face detection\n",
    "    face_cascade = cv2.CascadeClassifier(cv2.data.haarcascades + \"haarcascade_frontalface_default.xml\")\n",
    "    \n",
    "    if face_cascade.empty():\n",
    "        print(\"Error: Unable to load Haar Cascade. Check the file path.\")\n",
    "    else:\n",
    "        # Convert image to grayscale\n",
    "        gray_image = cv2.cvtColor(image, cv2.COLOR_BGR2GRAY)\n",
    "        \n",
    "        # Detect faces\n",
    "        faces = face_cascade.detectMultiScale(gray_image, scaleFactor=1.1, minNeighbors=5, minSize=(30, 30))\n",
    "        \n",
    "        # Draw rectangles around detected faces\n",
    "        for (x, y, w, h) in faces:\n",
    "            cv2.rectangle(image, (x, y), (x+w, y+h), (255, 0, 0), 2)\n",
    "        \n",
    "        # Display the result\n",
    "        cv2.imshow(\"Detected Faces\", image)\n",
    "        cv2.waitKey(0)\n",
    "        cv2.destroyAllWindows()\n"
   ]
  },
  {
   "cell_type": "code",
   "execution_count": null,
   "id": "3d38fd96-e6d2-4535-abe9-877356e90733",
   "metadata": {},
   "outputs": [],
   "source": []
  }
 ],
 "metadata": {
  "kernelspec": {
   "display_name": "Python 3 (ipykernel)",
   "language": "python",
   "name": "python3"
  },
  "language_info": {
   "codemirror_mode": {
    "name": "ipython",
    "version": 3
   },
   "file_extension": ".py",
   "mimetype": "text/x-python",
   "name": "python",
   "nbconvert_exporter": "python",
   "pygments_lexer": "ipython3",
   "version": "3.11.7"
  }
 },
 "nbformat": 4,
 "nbformat_minor": 5
}
